{
  "nbformat": 4,
  "nbformat_minor": 0,
  "metadata": {
    "colab": {
      "name": "Custom_Yolov4_tiny.ipynb",
      "provenance": [],
      "collapsed_sections": [],
      "toc_visible": true
    },
    "kernelspec": {
      "name": "python3",
      "display_name": "Python 3"
    },
    "accelerator": "GPU"
  },
  "cells": [
    {
      "cell_type": "markdown",
      "metadata": {
        "id": "6XFfFChvLTCw",
        "colab_type": "text"
      },
      "source": [
        "# Customizing Darknet's YOLOv4-tiny \n",
        "\n",
        "This notebook implements [YOLOv4 tiny](https://github.com/AlexeyAB/darknet/issues/6067) on your notebook for custom object detection.\n",
        "\n",
        "\n",
        "We will take the following steps to implement YOLOv4 on our custom data:\n",
        "* Configure our GPU environment on Google Colab\n",
        "* Install the Darknet YOLOv4 training environment\n",
        "* Download our custom dataset for YOLOv4 and set up directories\n",
        "* Configure a custom YOLOv4 training config file for Darknet\n",
        "* Train our custom YOLOv4 object detector\n",
        "* Reload YOLOv4 trained weights and make inference on test images"
      ]
    },
    {
      "cell_type": "code",
      "metadata": {
        "id": "piL5xMw7UyJY",
        "colab_type": "code",
        "colab": {}
      },
      "source": [
        "import os\n",
        "\n",
        "from IPython.core.magic import register_line_cell_magic"
      ],
      "execution_count": null,
      "outputs": []
    },
    {
      "cell_type": "markdown",
      "metadata": {
        "id": "ecomydGaNxGf",
        "colab_type": "text"
      },
      "source": [
        "# Step 1: Enable GPU within your notebook\n",
        "\n",
        "Go to:\n",
        "Edit -> Notebook Settings -> GPU\n"
      ]
    },
    {
      "cell_type": "markdown",
      "metadata": {
        "id": "3pF8Q5aAPH8w",
        "colab_type": "text"
      },
      "source": [
        "# Step 2: Cloning and Building Darknet\n",
        "\n",
        "Clone darknet from AlexeyAB's famous repository, adjust the Makefile to enable OPENCV and GPU for darknet and then build darknet."
      ]
    },
    {
      "cell_type": "code",
      "metadata": {
        "id": "Rm5RQV4bjgwz",
        "colab_type": "code",
        "colab": {}
      },
      "source": [
        "%cd /content/\n",
        "%rm -rf darknet"
      ],
      "execution_count": null,
      "outputs": []
    },
    {
      "cell_type": "code",
      "metadata": {
        "id": "FOeqXGA3PUki",
        "colab_type": "code",
        "colab": {}
      },
      "source": [
        "!git clone https://github.com/AlexeyAB/darknet"
      ],
      "execution_count": null,
      "outputs": []
    },
    {
      "cell_type": "code",
      "metadata": {
        "id": "bTmEAqMojnzR",
        "colab_type": "code",
        "colab": {}
      },
      "source": [
        "%cd darknet\n",
        "\n",
        "!sed -i 's/OPENCV=0/OPENCV=1/' Makefile\n",
        "!sed -i 's/GPU=0/GPU=1/' Makefile\n",
        "!sed -i 's/CUDNN=0/CUDNN=1/' Makefile\n",
        "!sed -i 's/CUDNN_HALF=0/CUDNN_HALF=1/' Makefile"
      ],
      "execution_count": null,
      "outputs": []
    },
    {
      "cell_type": "markdown",
      "metadata": {
        "id": "9bBNhHUpPl41",
        "colab_type": "text"
      },
      "source": [
        "Following script enables you to build darknet so that you can then use the darknet executable file to run or train object detectors)"
      ]
    },
    {
      "cell_type": "code",
      "metadata": {
        "id": "YwK27fGOjpcl",
        "colab_type": "code",
        "colab": {}
      },
      "source": [
        "!make"
      ],
      "execution_count": null,
      "outputs": []
    },
    {
      "cell_type": "markdown",
      "metadata": {
        "id": "v34_Cx4QQd1Q",
        "colab_type": "text"
      },
      "source": [
        "# Step 3: Download pre-trained weights for the convolutional layers.\n",
        "\n",
        "This downloads weights for the convolutional layers of the YOLOv4-tiny network. By using these weights it helps your custom object detector to be way more accurate and not have to train as long."
      ]
    },
    {
      "cell_type": "code",
      "metadata": {
        "id": "mdmzzBXxl_LT",
        "colab_type": "code",
        "colab": {}
      },
      "source": [
        "#download the newly released yolov4-tiny weights\n",
        "!wget https://github.com/AlexeyAB/darknet/releases/download/darknet_yolo_v4_pre/yolov4-tiny.conv.29"
      ],
      "execution_count": null,
      "outputs": []
    },
    {
      "cell_type": "markdown",
      "metadata": {
        "id": "jXlKV9ViREvD",
        "colab_type": "text"
      },
      "source": [
        "# Step 4: Define Helper Function\n",
        "\n",
        "Allows you to show the image in your Colab Notebook after running your detections"
      ]
    },
    {
      "cell_type": "code",
      "metadata": {
        "id": "B0qY7Yi5j2pO",
        "colab_type": "code",
        "colab": {}
      },
      "source": [
        "def imShow(path):\n",
        "  import cv2\n",
        "  import matplotlib.pyplot as plt\n",
        "  %matplotlib notebook\n",
        "\n",
        "  image = cv2.imread(path)\n",
        "  height, width = image.shape[:2]\n",
        "  resized_image = cv2.resize(image,(3*width, 3*height), interpolation = cv2.INTER_CUBIC)\n",
        "\n",
        "  fig = plt.gcf()\n",
        "  fig.set_size_inches(18, 10)\n",
        "  plt.axis(\"off\")\n",
        "  plt.imshow(cv2.cvtColor(resized_image, cv2.COLOR_BGR2RGB))\n",
        "  plt.show()"
      ],
      "execution_count": null,
      "outputs": []
    },
    {
      "cell_type": "markdown",
      "metadata": {
        "id": "w75f4LlKmLSL",
        "colab_type": "text"
      },
      "source": [
        "# Step 5: Set up Custom Dataset\n",
        "\n",
        "Use Roboflow to convert dataset from any format to the YOLO Darknet format. \n",
        "\n",
        "1. To do so, create a free [Roboflow account](https://app.roboflow.ai).\n",
        "2. Upload your images and their annotations (in any format: VOC XML, COCO JSON, TensorFlow CSV, etc).\n",
        "3. Apply preprocessing and augmentation steps you may like. Recommend at least `auto-orient` and a `resize` to 416x416. Generate your dataset.\n",
        "4. Export your dataset in the **YOLO Darknet format**.\n",
        "5. Copy your download link, and paste it below. (do not share this link)\n",
        "\n",
        "See Roboflow's [blog post](https://blog.roboflow.ai/training-yolov4-on-a-custom-dataset/) for greater detail."
      ]
    },
    {
      "cell_type": "code",
      "metadata": {
        "id": "Qeu3IwTwmNBC",
        "colab_type": "code",
        "colab": {}
      },
      "source": [
        "!curl -L \"PASTE_LINK_HERE\" > roboflow.zip; unzip roboflow.zip; rm roboflow.zip"
      ],
      "execution_count": null,
      "outputs": []
    },
    {
      "cell_type": "markdown",
      "metadata": {
        "id": "7gI3p9iDT6BM",
        "colab_type": "text"
      },
      "source": [
        "Set up training file directories for custom dataset"
      ]
    },
    {
      "cell_type": "code",
      "metadata": {
        "id": "ks_j83paT932",
        "colab_type": "code",
        "colab": {}
      },
      "source": [
        "%cp train/_darknet.labels data/obj.names\n",
        "%mkdir data/obj"
      ],
      "execution_count": null,
      "outputs": []
    },
    {
      "cell_type": "markdown",
      "metadata": {
        "id": "6n01rK-7UAcV",
        "colab_type": "text"
      },
      "source": [
        "Copy images and lables to required directory `./data/obj` and create the `obj.data` file"
      ]
    },
    {
      "cell_type": "code",
      "metadata": {
        "id": "-cV55_MrmPeR",
        "colab_type": "code",
        "colab": {}
      },
      "source": [
        "%cp train/*.jpg data/obj/\n",
        "%cp valid/*.jpg data/obj/\n",
        "\n",
        "%cp train/*.txt data/obj/\n",
        "%cp valid/*.txt data/obj/\n",
        "\n",
        "with open('data/obj.data', 'w') as out:\n",
        "  out.write('classes = 2\\n')\n",
        "  out.write('train = data/train.txt\\n')\n",
        "  out.write('valid = data/valid.txt\\n')\n",
        "  out.write('names = data/obj.names\\n')\n",
        "  out.write('backup = backup/')"
      ],
      "execution_count": null,
      "outputs": []
    },
    {
      "cell_type": "markdown",
      "metadata": {
        "id": "HihTvbWCUZUb",
        "colab_type": "text"
      },
      "source": [
        "Write the image list for train.txt"
      ]
    },
    {
      "cell_type": "code",
      "metadata": {
        "id": "9_tzGU2lUvSs",
        "colab_type": "code",
        "colab": {}
      },
      "source": [
        "with open('data/train.txt', 'w') as out:\n",
        "  for img in [f for f in os.listdir('train') if f.endswith('jpg')]:\n",
        "    out.write('data/obj/' + img + '\\n')"
      ],
      "execution_count": null,
      "outputs": []
    },
    {
      "cell_type": "markdown",
      "metadata": {
        "id": "OeXiaLkQU4vQ",
        "colab_type": "text"
      },
      "source": [
        "Write the image list for valid.txt"
      ]
    },
    {
      "cell_type": "code",
      "metadata": {
        "id": "ZTYPCLcgUUdi",
        "colab_type": "code",
        "colab": {}
      },
      "source": [
        "with open('data/valid.txt', 'w') as out:\n",
        "  for img in [f for f in os.listdir('valid') if f.endswith('jpg')]:\n",
        "    out.write('data/obj/' + img + '\\n')"
      ],
      "execution_count": null,
      "outputs": []
    },
    {
      "cell_type": "markdown",
      "metadata": {
        "id": "EatpoZ5tYhk4",
        "colab_type": "text"
      },
      "source": [
        "## Step 5.1 Edit .cfg file\n",
        "\n",
        "The .cfg file needs to fit the needs of the custom object detector.\n",
        "\n",
        "### Variable Configuration (according to Darknet)\n",
        "\n",
        "- **batch** = 64\n",
        "\n",
        "- **subdivisions** = 16 *(32 or even 64 if you run into CUDA memory issues)*\n",
        "\n",
        "- **width** and **height** = 416 *(these can be any multiple of 32, 416 is standard, you can sometimes improve results by making value larger like 608 but will slow down training)*\n",
        "\n",
        "- **max_batches** = (# of classes) * 2000  *(but no less than 6000 so if you are training for 1, 2, or 3 classes it will be 6000)*\n",
        "\n",
        "- **steps** = (80% of max_batches), (90% of max_batches)\n",
        "\n",
        "- **filters** = (# of classes + 5) * 3\n",
        "\n",
        "**Optional:** If you run into memory issues or find the training taking a super long time. In each of the three yolo layers in the cfg, change one line from random = 1 to **random = 0** to speed up training but slightly reduce accuracy of model. Will also help save memory if you run into any memory issues.\n",
        "\n"
      ]
    },
    {
      "cell_type": "markdown",
      "metadata": {
        "id": "YQUDXrhJekxl",
        "colab_type": "text"
      },
      "source": [
        "We build the config file dynamically based on the class numbers"
      ]
    },
    {
      "cell_type": "code",
      "metadata": {
        "id": "E3gfvshIY6On",
        "colab_type": "code",
        "colab": {}
      },
      "source": [
        "def file_len(fname):\n",
        "  with open(fname) as f:\n",
        "    for i, l in enumerate(f):\n",
        "      pass\n",
        "  return i + 1\n",
        "\n",
        "num_classes = file_len('train/_darknet.labels')\n",
        "max_batches = num_classes*2000\n",
        "steps1 = .8 * max_batches\n",
        "steps2 = .9 * max_batches\n",
        "steps_str = str(steps1)+','+str(steps2)\n",
        "num_filters = (num_classes + 5) * 3"
      ],
      "execution_count": null,
      "outputs": []
    },
    {
      "cell_type": "markdown",
      "metadata": {
        "id": "458a61ezZKW0",
        "colab_type": "text"
      },
      "source": [
        "Remove existing config file and customize iPython writefile so we can write variables"
      ]
    },
    {
      "cell_type": "code",
      "metadata": {
        "id": "438LZ6U0m1LR",
        "colab_type": "code",
        "colab": {}
      },
      "source": [
        "if os.path.exists('./cfg/custom-yolov4-tiny-detector.cfg'): os.remove('./cfg/custom-yolov4-tiny-detector.cfg')\n",
        "\n",
        "@register_line_cell_magic\n",
        "def writetemplate(line, cell):\n",
        "    with open(line, 'w') as f:\n",
        "        f.write(cell.format(**globals()))"
      ],
      "execution_count": null,
      "outputs": []
    },
    {
      "cell_type": "markdown",
      "metadata": {
        "id": "2PMtAJNiZZbg",
        "colab_type": "text"
      },
      "source": [
        "Create the yolov4-tiny-obj.cfg file"
      ]
    },
    {
      "cell_type": "code",
      "metadata": {
        "id": "VrAC5eNcpWB_",
        "colab_type": "code",
        "colab": {}
      },
      "source": [
        "%%writetemplate ./cfg/yolov4-tiny-obj.cfg\n",
        "[net]\n",
        "# Testing\n",
        "#batch=1\n",
        "#subdivisions=1\n",
        "# Training\n",
        "batch=64\n",
        "subdivisions=16\n",
        "width=416\n",
        "height=416\n",
        "channels=3\n",
        "momentum=0.9\n",
        "decay=0.0005\n",
        "angle=0\n",
        "saturation = 1.5\n",
        "exposure = 1.5\n",
        "hue=.1\n",
        "\n",
        "learning_rate=0.00261\n",
        "burn_in=1000\n",
        "max_batches = {max_batches}\n",
        "policy=steps\n",
        "steps={steps_str}\n",
        "scales=.1,.1\n",
        "\n",
        "[convolutional]\n",
        "batch_normalize=1\n",
        "filters=32\n",
        "size=3\n",
        "stride=2\n",
        "pad=1\n",
        "activation=leaky\n",
        "\n",
        "[convolutional]\n",
        "batch_normalize=1\n",
        "filters=64\n",
        "size=3\n",
        "stride=2\n",
        "pad=1\n",
        "activation=leaky\n",
        "\n",
        "[convolutional]\n",
        "batch_normalize=1\n",
        "filters=64\n",
        "size=3\n",
        "stride=1\n",
        "pad=1\n",
        "activation=leaky\n",
        "\n",
        "[route]\n",
        "layers=-1\n",
        "groups=2\n",
        "group_id=1\n",
        "\n",
        "[convolutional]\n",
        "batch_normalize=1\n",
        "filters=32\n",
        "size=3\n",
        "stride=1\n",
        "pad=1\n",
        "activation=leaky\n",
        "\n",
        "[convolutional]\n",
        "batch_normalize=1\n",
        "filters=32\n",
        "size=3\n",
        "stride=1\n",
        "pad=1\n",
        "activation=leaky\n",
        "\n",
        "[route]\n",
        "layers = -1,-2\n",
        "\n",
        "[convolutional]\n",
        "batch_normalize=1\n",
        "filters=64\n",
        "size=1\n",
        "stride=1\n",
        "pad=1\n",
        "activation=leaky\n",
        "\n",
        "[route]\n",
        "layers = -6,-1\n",
        "\n",
        "[maxpool]\n",
        "size=2\n",
        "stride=2\n",
        "\n",
        "[convolutional]\n",
        "batch_normalize=1\n",
        "filters=128\n",
        "size=3\n",
        "stride=1\n",
        "pad=1\n",
        "activation=leaky\n",
        "\n",
        "[route]\n",
        "layers=-1\n",
        "groups=2\n",
        "group_id=1\n",
        "\n",
        "[convolutional]\n",
        "batch_normalize=1\n",
        "filters=64\n",
        "size=3\n",
        "stride=1\n",
        "pad=1\n",
        "activation=leaky\n",
        "\n",
        "[convolutional]\n",
        "batch_normalize=1\n",
        "filters=64\n",
        "size=3\n",
        "stride=1\n",
        "pad=1\n",
        "activation=leaky\n",
        "\n",
        "[route]\n",
        "layers = -1,-2\n",
        "\n",
        "[convolutional]\n",
        "batch_normalize=1\n",
        "filters=128\n",
        "size=1\n",
        "stride=1\n",
        "pad=1\n",
        "activation=leaky\n",
        "\n",
        "[route]\n",
        "layers = -6,-1\n",
        "\n",
        "[maxpool]\n",
        "size=2\n",
        "stride=2\n",
        "\n",
        "[convolutional]\n",
        "batch_normalize=1\n",
        "filters=256\n",
        "size=3\n",
        "stride=1\n",
        "pad=1\n",
        "activation=leaky\n",
        "\n",
        "[route]\n",
        "layers=-1\n",
        "groups=2\n",
        "group_id=1\n",
        "\n",
        "[convolutional]\n",
        "batch_normalize=1\n",
        "filters=128\n",
        "size=3\n",
        "stride=1\n",
        "pad=1\n",
        "activation=leaky\n",
        "\n",
        "[convolutional]\n",
        "batch_normalize=1\n",
        "filters=128\n",
        "size=3\n",
        "stride=1\n",
        "pad=1\n",
        "activation=leaky\n",
        "\n",
        "[route]\n",
        "layers = -1,-2\n",
        "\n",
        "[convolutional]\n",
        "batch_normalize=1\n",
        "filters=256\n",
        "size=1\n",
        "stride=1\n",
        "pad=1\n",
        "activation=leaky\n",
        "\n",
        "[route]\n",
        "layers = -6,-1\n",
        "\n",
        "[maxpool]\n",
        "size=2\n",
        "stride=2\n",
        "\n",
        "[convolutional]\n",
        "batch_normalize=1\n",
        "filters=512\n",
        "size=3\n",
        "stride=1\n",
        "pad=1\n",
        "activation=leaky\n",
        "\n",
        "##################################\n",
        "\n",
        "[convolutional]\n",
        "batch_normalize=1\n",
        "filters=256\n",
        "size=1\n",
        "stride=1\n",
        "pad=1\n",
        "activation=leaky\n",
        "\n",
        "[convolutional]\n",
        "batch_normalize=1\n",
        "filters=512\n",
        "size=3\n",
        "stride=1\n",
        "pad=1\n",
        "activation=leaky\n",
        "\n",
        "[convolutional]\n",
        "size=1\n",
        "stride=1\n",
        "pad=1\n",
        "filters={num_filters}\n",
        "activation=linear\n",
        "\n",
        "[yolo]\n",
        "mask = 3,4,5\n",
        "anchors = 10,14,  23,27,  37,58,  81,82,  135,169,  344,319\n",
        "classes={num_classes}\n",
        "num=6\n",
        "jitter=.3\n",
        "scale_x_y = 1.05\n",
        "cls_normalizer=1.0\n",
        "iou_normalizer=0.07\n",
        "iou_loss=ciou\n",
        "ignore_thresh = .7\n",
        "truth_thresh = 1\n",
        "random=0\n",
        "nms_kind=greedynms\n",
        "beta_nms=0.6\n",
        "\n",
        "[route]\n",
        "layers = -4\n",
        "\n",
        "[convolutional]\n",
        "batch_normalize=1\n",
        "filters=128\n",
        "size=1\n",
        "stride=1\n",
        "pad=1\n",
        "activation=leaky\n",
        "\n",
        "[upsample]\n",
        "stride=2\n",
        "\n",
        "[route]\n",
        "layers = -1, 23\n",
        "\n",
        "[convolutional]\n",
        "batch_normalize=1\n",
        "filters=256\n",
        "size=3\n",
        "stride=1\n",
        "pad=1\n",
        "activation=leaky\n",
        "\n",
        "[convolutional]\n",
        "size=1\n",
        "stride=1\n",
        "pad=1\n",
        "filters={num_filters}\n",
        "activation=linear\n",
        "\n",
        "[yolo]\n",
        "mask = 1,2,3\n",
        "anchors = 10,14,  23,27,  37,58,  81,82,  135,169,  344,319\n",
        "classes={num_classes}\n",
        "num=6\n",
        "jitter=.3\n",
        "scale_x_y = 1.05\n",
        "cls_normalizer=1.0\n",
        "iou_normalizer=0.07\n",
        "iou_loss=ciou\n",
        "ignore_thresh = .7\n",
        "truth_thresh = 1\n",
        "random=0\n",
        "nms_kind=greedynms\n",
        "beta_nms=0.6"
      ],
      "execution_count": null,
      "outputs": []
    },
    {
      "cell_type": "markdown",
      "metadata": {
        "id": "TZHhc001qJEe",
        "colab_type": "text"
      },
      "source": [
        "# Step 6: Train the Custom Object Detector\n",
        "```\n",
        "!./darknet detector train <path to obj.data> <path to custom config> yolov4.conv.29 -dont_show -map\n",
        "```\n",
        "\n",
        "- **dont_show** : stops chart from popping up since Colab Notebook can't open images on the spot\n",
        "- **map** : overlays mean average precision on chart to see model accuracy, only add map flag if you have a validation dataset)"
      ]
    },
    {
      "cell_type": "markdown",
      "metadata": {
        "id": "FacZVk3Pczab",
        "colab_type": "text"
      },
      "source": [
        "uncomment %%capture below if you run into memory issues or your Colab is crashing"
      ]
    },
    {
      "cell_type": "code",
      "metadata": {
        "id": "67WZxsnlqJ3t",
        "colab_type": "code",
        "colab": {}
      },
      "source": [
        "# %%capture\n",
        "!./darknet detector train data/obj.data cfg/yolov4-tiny-obj.cfg yolov4-tiny.conv.29 -dont_show -map"
      ],
      "execution_count": null,
      "outputs": []
    },
    {
      "cell_type": "markdown",
      "metadata": {
        "id": "Y5CjxlCUcwYp",
        "colab_type": "text"
      },
      "source": [
        "## Step 6.1 (optional): Leaving Colab Idle Issue Fix \n",
        "\n",
        "The training might take a while (sometimes even 20 hours). However, Colab Cloud Service kicks you off it's VMs if you are idle for too long (30-90 mins).\n",
        "\n",
        "To avoid this hold (CTRL + SHIFT + i) at the same time to open up the inspector view on your browser.\n",
        "\n",
        "Paste the following code into your console window and hit **Enter**\n",
        "```\n",
        "function ClickConnect(){\n",
        "console.log(\"Working\"); \n",
        "document\n",
        "  .querySelector('#top-toolbar > colab-connect-button')\n",
        "  .shadowRoot.querySelector('#connect')\n",
        "  .click() \n",
        "}\n",
        "setInterval(ClickConnect,60000)\n",
        "```\n",
        "This clicks the screen every 10 minutes so that you don't get kicked off for being idle"
      ]
    },
    {
      "cell_type": "markdown",
      "metadata": {
        "id": "WWa0Z-fVrnHI",
        "colab_type": "text"
      },
      "source": [
        "## Step 6.2 (optional): Continue Training using saved weights\n",
        "\n",
        "If you get an error or Colab goes idle during training, use your partially trained model and weights to continue training.\n",
        "\n",
        "Every 100 iterations a weights file called **yolov4-obj_last.weights** is saved to **./backup/** folder and every 1000 iterations a **yolov4-obj_{x}000.weights** is created.  This however requires you to keep an eye on newly created weights and download them for later.\n",
        "\n",
        "You can change the backup folder to your drive if needed (**check Step 5.1**).\n",
        "\n",
        "Run the following command\n",
        "```\n",
        "!./darknet detector train data/obj.data cfg/yolov4-obj.cfg ./backup/yolov4-obj_last.weights -dont_show\n",
        "```"
      ]
    },
    {
      "cell_type": "code",
      "metadata": {
        "id": "SqBDVWG0rmvw",
        "colab_type": "code",
        "colab": {}
      },
      "source": [
        "# !./darknet detector train data/obj.data cfg/yolov4-obj.cfg backup/yolov4-obj_last.weights -dont_show\n",
        "# or\n",
        "# !./darknet detector train data/obj.data cfg/yolov4-obj.cfg backup/yolov4-obj_{x}000.weights -dont_show"
      ],
      "execution_count": null,
      "outputs": []
    },
    {
      "cell_type": "markdown",
      "metadata": {
        "id": "75QcCUQCgX6y",
        "colab_type": "text"
      },
      "source": [
        "## Step 6.3 (optional): Iteration vs Loss Chart\n",
        "\n",
        "After training, you can observe a chart of how your model did throughout the training process by running the below command. It shows a chart of your average loss vs. iterations. For your model to be 'accurate' you should aim for a loss under 2."
      ]
    },
    {
      "cell_type": "code",
      "metadata": {
        "id": "NPm1w-k1g0_C",
        "colab_type": "code",
        "colab": {}
      },
      "source": [
        "imShow('chart.png')"
      ],
      "execution_count": null,
      "outputs": []
    },
    {
      "cell_type": "markdown",
      "metadata": {
        "id": "0dj49W6dr6-R",
        "colab_type": "text"
      },
      "source": [
        "# Step 7: Run the Object Detector\n",
        "\n",
        "\n",
        "The tiny model has it's labels hardcoded in coco.names file, therefore copy the obj.names content to the coco.names file."
      ]
    },
    {
      "cell_type": "code",
      "metadata": {
        "id": "Sy9yLNWxFMDu",
        "colab_type": "code",
        "colab": {}
      },
      "source": [
        "%cp data/obj.names data/coco.names"
      ],
      "execution_count": null,
      "outputs": []
    },
    {
      "cell_type": "markdown",
      "metadata": {
        "id": "koGwkDA2hsBF",
        "colab_type": "text"
      },
      "source": [
        "Choose a random test image for the detector"
      ]
    },
    {
      "cell_type": "code",
      "metadata": {
        "id": "Q5Ud5aVDr6VC",
        "colab_type": "code",
        "colab": {}
      },
      "source": [
        "test_images = [f for f in os.listdir('test') if f.endswith('.jpg')]\n",
        "import random\n",
        "img_path = \"test/\" + random.choice(test_images);"
      ],
      "execution_count": null,
      "outputs": []
    },
    {
      "cell_type": "markdown",
      "metadata": {
        "id": "pXim7QPwhx_K",
        "colab_type": "text"
      },
      "source": [
        "Once the models has completed training or the average loss hasn't changes as much, a **yolov4-obj_best.weights** file is created in backup. We use this to test our model.\n",
        "\n",
        "Run the detector and show its predictions\n",
        "```\n",
        "!./darknet detect <path to obj.cfg> <path to obj.weights> <image path>  -dont-show\n",
        "```"
      ]
    },
    {
      "cell_type": "code",
      "metadata": {
        "id": "lEhubF03hyOf",
        "colab_type": "code",
        "colab": {}
      },
      "source": [
        "!./darknet detect cfg/yolov4-tiny-obj.cfg backup/yolov4-tiny-obj_best.weights {img_path} -dont-show\n",
        "imShow('predictions.jpg')"
      ],
      "execution_count": null,
      "outputs": []
    },
    {
      "cell_type": "markdown",
      "metadata": {
        "id": "a-HZbWIgshCN",
        "colab_type": "text"
      },
      "source": [
        "## Step 7.1 (alternative): Run Detector on Video Files\n",
        "\n",
        "The detector can also be used on video files, use the following command to run the detector:\n",
        "\n",
        "```\n",
        "!./darknet detector demo <path to obj.data> <path to obj.cfg> <path to obj.weights> -dont_show <path to video> -i 0 -out_filename <path to output file>\n",
        "```"
      ]
    },
    {
      "cell_type": "code",
      "metadata": {
        "id": "aZyjUXYUL-Yn",
        "colab_type": "code",
        "colab": {}
      },
      "source": [
        "!./darknet detector demo data/obj.data cfg/yolov4-tiny-obj.cfg backup/yolov4-tiny-obj_best.weights -dont_show /content/test.mp4 -i 0 -out_filename results.avi"
      ],
      "execution_count": null,
      "outputs": []
    },
    {
      "cell_type": "markdown",
      "metadata": {
        "id": "zZ9MQOF3kT4c",
        "colab_type": "text"
      },
      "source": [
        "# Done!\n",
        "\n"
      ]
    }
  ]
}